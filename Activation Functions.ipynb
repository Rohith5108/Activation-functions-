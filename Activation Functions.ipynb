{
 "cells": [
  {
   "cell_type": "code",
   "execution_count": 3,
   "id": "3e59ea58",
   "metadata": {},
   "outputs": [],
   "source": [
    "# sigmoid acivation function    \n",
    "\n",
    "import math\n",
    "\n",
    "def sigmoid(x):\n",
    "    return 1/(1 + math.exp(-x))"
   ]
  },
  {
   "cell_type": "code",
   "execution_count": 4,
   "id": "886cb497",
   "metadata": {},
   "outputs": [
    {
     "data": {
      "text/plain": [
       "0.9996646498695336"
      ]
     },
     "execution_count": 4,
     "metadata": {},
     "output_type": "execute_result"
    }
   ],
   "source": [
    "sigmoid(8) #here absorve we get sigmoid value between range of [0 to 1]"
   ]
  },
  {
   "cell_type": "code",
   "execution_count": 16,
   "id": "0fb4bff6",
   "metadata": {},
   "outputs": [
    {
     "data": {
      "text/plain": [
       "0.9975273768433653"
      ]
     },
     "execution_count": 16,
     "metadata": {},
     "output_type": "execute_result"
    }
   ],
   "source": [
    "sigmoid(6) #for any value it will give output between 0 to 1"
   ]
  },
  {
   "cell_type": "code",
   "execution_count": 19,
   "id": "bb51c1ac",
   "metadata": {},
   "outputs": [],
   "source": [
    "# tanh activation function\n",
    "\n",
    "def tanh(x):\n",
    "    return (math.exp(x) - math.exp(-x)) /(math.exp(x) + (math.exp(-x)))"
   ]
  },
  {
   "cell_type": "code",
   "execution_count": 17,
   "id": "5b5c3eb3",
   "metadata": {},
   "outputs": [
    {
     "data": {
      "text/plain": [
       "0.7615941559557649"
      ]
     },
     "execution_count": 17,
     "metadata": {},
     "output_type": "execute_result"
    }
   ],
   "source": [
    "tanh(1) #range of tanh is between[-1 to 1]"
   ]
  },
  {
   "cell_type": "code",
   "execution_count": 12,
   "id": "eb1d35dc",
   "metadata": {},
   "outputs": [
    {
     "data": {
      "text/plain": [
       "1.0"
      ]
     },
     "execution_count": 12,
     "metadata": {},
     "output_type": "execute_result"
    }
   ],
   "source": [
    "tanh(200)"
   ]
  },
  {
   "cell_type": "code",
   "execution_count": 20,
   "id": "9771e5d4",
   "metadata": {},
   "outputs": [],
   "source": [
    "# relu activation function\n",
    "\n",
    "def relu(x):\n",
    "    return max(0,x)"
   ]
  },
  {
   "cell_type": "code",
   "execution_count": 21,
   "id": "ae114222",
   "metadata": {},
   "outputs": [
    {
     "data": {
      "text/plain": [
       "2"
      ]
     },
     "execution_count": 21,
     "metadata": {},
     "output_type": "execute_result"
    }
   ],
   "source": [
    "relu(2) #range of relu is [1 to infinity]"
   ]
  },
  {
   "cell_type": "code",
   "execution_count": 23,
   "id": "86a4a55e",
   "metadata": {},
   "outputs": [
    {
     "data": {
      "text/plain": [
       "0"
      ]
     },
     "execution_count": 23,
     "metadata": {},
     "output_type": "execute_result"
    }
   ],
   "source": [
    "relu(-1) # relu consider negavtive values as 0."
   ]
  },
  {
   "cell_type": "code",
   "execution_count": 24,
   "id": "b0bae3dc",
   "metadata": {},
   "outputs": [],
   "source": [
    "# Leakyrelu activation function\n",
    "\n",
    "def leakyrelu(x):\n",
    "    return max(0.1*x,x)"
   ]
  },
  {
   "cell_type": "code",
   "execution_count": 25,
   "id": "0f13037d",
   "metadata": {},
   "outputs": [
    {
     "data": {
      "text/plain": [
       "-0.1"
      ]
     },
     "execution_count": 25,
     "metadata": {},
     "output_type": "execute_result"
    }
   ],
   "source": [
    "leakyrelu(-1) # it will not consider negative values into zero "
   ]
  },
  {
   "cell_type": "code",
   "execution_count": 26,
   "id": "a658d718",
   "metadata": {},
   "outputs": [
    {
     "data": {
      "text/plain": [
       "8"
      ]
     },
     "execution_count": 26,
     "metadata": {},
     "output_type": "execute_result"
    }
   ],
   "source": [
    "leakyrelu(8)"
   ]
  },
  {
   "cell_type": "code",
   "execution_count": null,
   "id": "02358fd7",
   "metadata": {},
   "outputs": [],
   "source": []
  }
 ],
 "metadata": {
  "kernelspec": {
   "display_name": "Python 3",
   "language": "python",
   "name": "python3"
  },
  "language_info": {
   "codemirror_mode": {
    "name": "ipython",
    "version": 3
   },
   "file_extension": ".py",
   "mimetype": "text/x-python",
   "name": "python",
   "nbconvert_exporter": "python",
   "pygments_lexer": "ipython3",
   "version": "3.8.8"
  }
 },
 "nbformat": 4,
 "nbformat_minor": 5
}
